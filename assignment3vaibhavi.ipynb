{
 "cells": [
  {
   "cell_type": "code",
   "execution_count": null,
   "id": "b89330c4-4949-4395-88d5-545800172e89",
   "metadata": {},
   "outputs": [],
   "source": []
  }
 ],
 "metadata": {
  "kernelspec": {
   "display_name": "",
   "name": ""
  },
  "language_info": {
   "name": ""
  }
 },
 "nbformat": 4,
 "nbformat_minor": 5
}
