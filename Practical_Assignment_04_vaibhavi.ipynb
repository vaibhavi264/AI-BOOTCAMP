{
 "cells": [
  {
   "cell_type": "markdown",
   "id": "44b7e7de-ab22-4373-9254-34e7b7728d0e",
   "metadata": {},
   "source": [
    "#### Write code to find number of rows with missing data in the dataset. \n"
   ]
  },
  {
   "cell_type": "code",
   "execution_count": 19,
   "id": "c6540ff7-5ea1-4c79-b8a7-e285d9d88f92",
   "metadata": {},
   "outputs": [],
   "source": [
    "import pandas as pd"
   ]
  },
  {
   "cell_type": "code",
   "execution_count": null,
   "id": "2c802896-9434-4f8a-9c3d-fe386a2e13cb",
   "metadata": {},
   "outputs": [],
   "source": [
    "# Load the dataset\n",
    "file_path = \"Downloads/student_performance - student_performance.csv\"\n",
    "df = pd.read_csv(file_path)\n",
    "\n",
    "# Display the first few rows\n",
    "df.head()\n",
    "df.info()"
   ]
  },
  {
   "cell_type": "code",
   "execution_count": 23,
   "id": "856111a7-ab95-4bbd-b00a-8bdb2c942f47",
   "metadata": {},
   "outputs": [
    {
     "name": "stdout",
     "output_type": "stream",
     "text": [
      "Number of rows with missing data: 0\n"
     ]
    }
   ],
   "source": [
    "\n",
    "rows_with_missing_data = df.isnull().sum(axis=1) > 0\n",
    "num_rows_with_missing_data = rows_with_missing_data.sum()\n",
    "\n",
    "# To Display the missing data\n",
    "print(f\"Number of rows with missing data: {num_rows_with_missing_data}\")\n"
   ]
  },
  {
   "cell_type": "code",
   "execution_count": null,
   "id": "48999447-fa12-49fc-9145-a063decc59cb",
   "metadata": {},
   "outputs": [],
   "source": []
  },
  {
   "cell_type": "code",
   "execution_count": null,
   "id": "95e2796f-df17-4f46-a9d1-d61a31ce7a10",
   "metadata": {},
   "outputs": [],
   "source": []
  }
 ],
 "metadata": {
  "kernelspec": {
   "display_name": "Python 3 (ipykernel)",
   "language": "python",
   "name": "python3"
  },
  "language_info": {
   "codemirror_mode": {
    "name": "ipython",
    "version": 3
   },
   "file_extension": ".py",
   "mimetype": "text/x-python",
   "name": "python",
   "nbconvert_exporter": "python",
   "pygments_lexer": "ipython3",
   "version": "3.12.7"
  }
 },
 "nbformat": 4,
 "nbformat_minor": 5
}
