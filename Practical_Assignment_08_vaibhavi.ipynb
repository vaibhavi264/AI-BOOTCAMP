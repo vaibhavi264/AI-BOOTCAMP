{
 "cells": [
  {
   "cell_type": "markdown",
   "id": "0254b7de-fab2-460e-98c9-62d8622a8a91",
   "metadata": {},
   "source": [
    "### Write a Python program using OpenCV functions to \n",
    "#### 1. read an image from a file and display it using OpenCV.\n",
    "#### 2. Find the shape (dimensions) of the image. \n",
    "#### 3. Resize the image to dimensions of 400x256 pixels.\n",
    "#### 4.Display the resized image.\n",
    "#### 5.Flip the image horizontally and vertically "
   ]
  },
  {
   "cell_type": "code",
   "execution_count": 1,
   "id": "666e44d0-199f-454d-8fd6-4acadae2f96c",
   "metadata": {},
   "outputs": [],
   "source": [
    "import numpy as np\n",
    "import matplotlib.pyplot as plt\n",
    "import pandas as pd\n",
    "import cv2"
   ]
  },
  {
   "cell_type": "code",
   "execution_count": 2,
   "id": "0c0e0409-7e15-466d-ac45-34c9027832ed",
   "metadata": {},
   "outputs": [],
   "source": [
    "img = cv2.imread(r\"AI.jpg\")"
   ]
  },
  {
   "cell_type": "code",
   "execution_count": 3,
   "id": "d727acab-cc2d-4c17-b73b-1b81fc5fa03b",
   "metadata": {},
   "outputs": [
    {
     "name": "stdout",
     "output_type": "stream",
     "text": [
      "<class 'numpy.ndarray'>\n"
     ]
    }
   ],
   "source": [
    "print(type(img))    # Display The Image"
   ]
  },
  {
   "cell_type": "code",
   "execution_count": 4,
   "id": "49fe5a75-7a36-483f-a98b-d5f89650ce51",
   "metadata": {},
   "outputs": [],
   "source": [
    "cv2.imshow(\"AI.jpg\",img)\n",
    "cv2.waitKey(0)\n",
    "cv2.destroyAllWindows()"
   ]
  },
  {
   "cell_type": "code",
   "execution_count": 5,
   "id": "5db3c034-3bf9-44b7-92ba-7c4582c70591",
   "metadata": {},
   "outputs": [
    {
     "name": "stdout",
     "output_type": "stream",
     "text": [
      "(183, 275, 3)\n"
     ]
    }
   ],
   "source": [
    "print(img.shape)   # Print The Image Shape"
   ]
  },
  {
   "cell_type": "code",
   "execution_count": 6,
   "id": "b4770b30-037c-4e85-896c-cd88201f5513",
   "metadata": {},
   "outputs": [],
   "source": [
    "img_resize = cv2.resize(img,(400,256))    # Resize The Image"
   ]
  },
  {
   "cell_type": "code",
   "execution_count": 7,
   "id": "2936ef63-d65d-40e5-8919-bd7921ac23a6",
   "metadata": {},
   "outputs": [],
   "source": [
    "cv2.imshow(\"AI\",img_resize)\n",
    "cv2.waitKey(0)\n",
    "cv2.destroyAllWindows()"
   ]
  },
  {
   "cell_type": "code",
   "execution_count": 8,
   "id": "84de306d-0a77-4b21-ac93-17d1b4e92422",
   "metadata": {},
   "outputs": [
    {
     "name": "stdout",
     "output_type": "stream",
     "text": [
      "(256, 400, 3)\n"
     ]
    }
   ],
   "source": [
    "print(img_resize.shape)   # Print Dimensions and shope of the Image"
   ]
  },
  {
   "cell_type": "code",
   "execution_count": 22,
   "id": "d51ced83-6823-48b8-a2b0-1119c6b906fd",
   "metadata": {},
   "outputs": [],
   "source": [
    "img_flip = cv2.flip(img,1)  # It Display Image horizontally"
   ]
  },
  {
   "cell_type": "code",
   "execution_count": 23,
   "id": "0f0fbc5c-b566-435d-850d-bea8a432cde6",
   "metadata": {},
   "outputs": [],
   "source": [
    "img_flip = cv2.flip(img,-1)  # It Display Image vertically"
   ]
  },
  {
   "cell_type": "code",
   "execution_count": null,
   "id": "d376094b-8444-4e0d-9acf-79423f94e4da",
   "metadata": {},
   "outputs": [],
   "source": [
    "cv2.imshow(\"flipped Image\",img_flip)\n",
    "cv2.waitKey(0)\n",
    "cv2.destroyAllWindows()"
   ]
  },
  {
   "cell_type": "code",
   "execution_count": 12,
   "id": "af99b1fc-91d8-4ff7-b2e2-16852dc8ecf1",
   "metadata": {},
   "outputs": [],
   "source": [
    "img_crop = img[100:300,200:500]    # It Cropped The Image"
   ]
  },
  {
   "cell_type": "code",
   "execution_count": 13,
   "id": "20916ba2-3497-4aa8-ba28-ddc13ce8ff6c",
   "metadata": {},
   "outputs": [],
   "source": [
    "cv2.imshow(\"Cropped Image\",img_crop)\n",
    "cv2.waitKey(0)\n",
    "cv2.destroyAllWindows()     "
   ]
  },
  {
   "cell_type": "code",
   "execution_count": 14,
   "id": "62c2e936-8dd9-4e1d-a3dd-9c483ef29914",
   "metadata": {},
   "outputs": [
    {
     "data": {
      "text/plain": [
       "True"
      ]
     },
     "execution_count": 14,
     "metadata": {},
     "output_type": "execute_result"
    }
   ],
   "source": [
    "cv2.imwrite(r\"croppedImg16.jpg\",img_crop)"
   ]
  },
  {
   "cell_type": "code",
   "execution_count": null,
   "id": "fd439fcd-7848-4962-8ec8-8bd06a48f1e8",
   "metadata": {},
   "outputs": [],
   "source": []
  },
  {
   "cell_type": "code",
   "execution_count": null,
   "id": "6d1f9a68-72ce-4ec5-aed2-3bc592f6470b",
   "metadata": {},
   "outputs": [],
   "source": []
  },
  {
   "cell_type": "code",
   "execution_count": null,
   "id": "ca00a054-8335-4773-8efc-588880421258",
   "metadata": {},
   "outputs": [],
   "source": []
  },
  {
   "cell_type": "code",
   "execution_count": null,
   "id": "1e77670a-98bc-4cc1-a41e-6c9f0414dcd0",
   "metadata": {},
   "outputs": [],
   "source": []
  }
 ],
 "metadata": {
  "kernelspec": {
   "display_name": "Python 3 (ipykernel)",
   "language": "python",
   "name": "python3"
  },
  "language_info": {
   "codemirror_mode": {
    "name": "ipython",
    "version": 3
   },
   "file_extension": ".py",
   "mimetype": "text/x-python",
   "name": "python",
   "nbconvert_exporter": "python",
   "pygments_lexer": "ipython3",
   "version": "3.12.7"
  }
 },
 "nbformat": 4,
 "nbformat_minor": 5
}
