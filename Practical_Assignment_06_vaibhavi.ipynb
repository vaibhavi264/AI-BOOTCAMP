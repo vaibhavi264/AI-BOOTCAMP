{
 "cells": [
  {
   "cell_type": "code",
   "execution_count": 5,
   "id": "eb1ad6f3-45cc-4675-b715-55dc0840da54",
   "metadata": {},
   "outputs": [],
   "source": [
    "import pandas as pd"
   ]
  },
  {
   "cell_type": "code",
   "execution_count": 18,
   "id": "2ad30140-b6cf-444d-8e40-40a21825620e",
   "metadata": {},
   "outputs": [
    {
     "name": "stdout",
     "output_type": "stream",
     "text": [
      "Players who scored more than 500 runs:\n",
      "Series([], Name: batsman_runs, dtype: int64)\n"
     ]
    }
   ],
   "source": [
    "players_total_runs = df.groupby(\"batter\")[\"batsman_runs\"].sum()\n",
    "\n",
    "# Filter players who have scored more than 500 runs\n",
    "players_above_500 = players_total_runs[players_total_runs > 500]\n",
    "\n",
    "# Display the filtered players\n",
    "print(\"Players who scored more than 500 runs:\")\n",
    "print(players_above_500)"
   ]
  },
  {
   "cell_type": "code",
   "execution_count": null,
   "id": "e83cfba1-12df-43dc-bd1d-240373bee8af",
   "metadata": {},
   "outputs": [],
   "source": []
  }
 ],
 "metadata": {
  "kernelspec": {
   "display_name": "Python 3 (ipykernel)",
   "language": "python",
   "name": "python3"
  },
  "language_info": {
   "codemirror_mode": {
    "name": "ipython",
    "version": 3
   },
   "file_extension": ".py",
   "mimetype": "text/x-python",
   "name": "python",
   "nbconvert_exporter": "python",
   "pygments_lexer": "ipython3",
   "version": "3.12.7"
  }
 },
 "nbformat": 4,
 "nbformat_minor": 5
}
