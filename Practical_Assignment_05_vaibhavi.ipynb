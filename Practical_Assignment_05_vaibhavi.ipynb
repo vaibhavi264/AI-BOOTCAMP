{
 "cells": [
  {
   "cell_type": "markdown",
   "id": "44b7e7de-ab22-4373-9254-34e7b7728d0e",
   "metadata": {},
   "source": [
    "## Write code to find mean, mode of the number of runs scored by top 10 players. IPL dataset is available in classroom"
   ]
  },
  {
   "cell_type": "code",
   "execution_count": 30,
   "id": "c6540ff7-5ea1-4c79-b8a7-e285d9d88f92",
   "metadata": {},
   "outputs": [],
   "source": [
    "import pandas as pd\n",
    "from statistics import mode"
   ]
  },
  {
   "cell_type": "code",
   "execution_count": 31,
   "id": "27fd7fc6-1b4e-41c4-b258-9abde60ab2b0",
   "metadata": {},
   "outputs": [
    {
     "name": "stdout",
     "output_type": "stream",
     "text": [
      "Mean Runs Scored by Top 10 Players: 167.1\n",
      "Mode Runs Scored by Top 10 Players: 189\n"
     ]
    }
   ],
   "source": [
    "\n",
    "\n",
    "\n",
    "# Load the IPL dataset\n",
    "file_path = \"Downloads/ipl_matches_smalldata - ipl_matches_smalldata.csv\"\n",
    "ipl_df = pd.read_csv(file_path)\n",
    "\n",
    "# Group by batter and sum total runs scored\n",
    "top_players = ipl_df.groupby(\"batter\")[\"batsman_runs\"].sum().nlargest(10)\n",
    "\n",
    "# Calculate mean and mode\n",
    "mean_runs = top_players.mean()\n",
    "mode_runs = mode(top_players)\n",
    "\n",
    "# Display results\n",
    "print(\"Mean Runs Scored by Top 10 Players:\", mean_runs)\n",
    "print(\"Mode Runs Scored by Top 10 Players:\", mode_runs)\n"
   ]
  },
  {
   "cell_type": "code",
   "execution_count": null,
   "id": "54685e98-0046-47ae-bc43-19bc9c277ad8",
   "metadata": {},
   "outputs": [],
   "source": []
  }
 ],
 "metadata": {
  "kernelspec": {
   "display_name": "Python 3 (ipykernel)",
   "language": "python",
   "name": "python3"
  },
  "language_info": {
   "codemirror_mode": {
    "name": "ipython",
    "version": 3
   },
   "file_extension": ".py",
   "mimetype": "text/x-python",
   "name": "python",
   "nbconvert_exporter": "python",
   "pygments_lexer": "ipython3",
   "version": "3.12.7"
  }
 },
 "nbformat": 4,
 "nbformat_minor": 5
}
